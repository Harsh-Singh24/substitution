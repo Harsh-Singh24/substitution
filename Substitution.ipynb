{
  "nbformat": 4,
  "nbformat_minor": 0,
  "metadata": {
    "colab": {
      "provenance": [],
      "authorship_tag": "ABX9TyO7cQSlXm2Y28bhsNXiOEpe",
      "include_colab_link": true
    },
    "kernelspec": {
      "name": "python3",
      "display_name": "Python 3"
    },
    "language_info": {
      "name": "python"
    }
  },
  "cells": [
    {
      "cell_type": "markdown",
      "metadata": {
        "id": "view-in-github",
        "colab_type": "text"
      },
      "source": [
        "<a href=\"https://colab.research.google.com/github/Harsh-Singh24/substitution/blob/main/Substitution.ipynb\" target=\"_parent\"><img src=\"https://colab.research.google.com/assets/colab-badge.svg\" alt=\"Open In Colab\"/></a>"
      ]
    },
    {
      "cell_type": "markdown",
      "source": [
        "#Substitution System"
      ],
      "metadata": {
        "id": "Orqs2_9IWqFu"
      }
    },
    {
      "cell_type": "markdown",
      "source": [
        "## Initializing"
      ],
      "metadata": {
        "id": "NYC34eGQW32H"
      }
    },
    {
      "cell_type": "code",
      "source": [
        "#Imporitng libraries\n",
        "import gspread\n",
        "import pandas as pd\n",
        "import numpy as np\n",
        "import seaborn as sns\n",
        "from datetime import datetime\n",
        "from google.colab import files\n"
      ],
      "metadata": {
        "id": "voG5L85bfvQ-"
      },
      "execution_count": 24,
      "outputs": []
    },
    {
      "cell_type": "code",
      "source": [
        "from google.colab import auth\n",
        "auth.authenticate_user()"
      ],
      "metadata": {
        "id": "_SdWLzdYg3F3"
      },
      "execution_count": 25,
      "outputs": []
    },
    {
      "cell_type": "code",
      "source": [
        "from google.colab import drive\n",
        "drive.mount('/content/drive')"
      ],
      "metadata": {
        "colab": {
          "base_uri": "https://localhost:8080/"
        },
        "id": "EQgUoVD1g6At",
        "outputId": "f33b1d25-ea95-4a6a-e3a5-608a1fa41b45"
      },
      "execution_count": 26,
      "outputs": [
        {
          "output_type": "stream",
          "name": "stdout",
          "text": [
            "Drive already mounted at /content/drive; to attempt to forcibly remount, call drive.mount(\"/content/drive\", force_remount=True).\n"
          ]
        }
      ]
    },
    {
      "cell_type": "code",
      "source": [
        "import gspread\n",
        "\n",
        "#Authenticate google sheet\n",
        "from google.auth import default\n",
        "creds, _ = default()\n",
        "\n",
        "gs = gspread.authorize(creds)"
      ],
      "metadata": {
        "id": "7sKVr5jVg7wW"
      },
      "execution_count": 27,
      "outputs": []
    },
    {
      "cell_type": "code",
      "source": [
        "#loading data\n",
        "worksheet = gs.open('Preprocessing_final').sheet1\n",
        "data = worksheet.get_all_values()\n",
        "dataset = pd.DataFrame(data[1:], columns=data[0])\n",
        "\n",
        "\n",
        "#Preprocessing Data\n",
        "df1 = dataset[['Period','Class/section', 'Day', 'Time', 'Subject']]\n",
        "\n",
        "df2 = dataset[['Period','Class/section', 'Day', 'Time', 'Teachers_Name']]\n",
        "#replace Null values with N/A in column\n",
        "df2['Teachers_Name'] = df2['Teachers_Name'].fillna('Not available')\n",
        "# Function to split values in a4 column and convert to separate rows\n",
        "def split_and_stack(df):\n",
        "    stacked_df = (df.set_index(df.columns.drop('Subject',1).tolist())\n",
        "                  .Subject.str.split('/', expand=True)\n",
        "                  .stack()\n",
        "                  .reset_index()\n",
        "                  .rename(columns={0:'Subject'})\n",
        "                  .loc[:, df.columns]\n",
        "                 )\n",
        "    return stacked_df\n",
        "\n",
        "def split_and_stack2(df):\n",
        "    stacked_df = (df.set_index(df.columns.drop('Teachers_Name',1).tolist())\n",
        "                  .Teachers_Name.str.split('/', expand=True)\n",
        "                  .stack()\n",
        "                  .reset_index()\n",
        "                  .rename(columns={0:'Teachers_Name'})\n",
        "                  .loc[:, df.columns]\n",
        "                 )\n",
        "    return stacked_df\n",
        "# Apply function to split\n",
        "\n",
        "result1 = split_and_stack(df1)\n",
        "result2 = split_and_stack2(df2)\n",
        "\n",
        "#Merging the columns\n",
        "dataset_timetable = pd.concat([result1, result2['Teachers_Name']], axis=1)\n",
        "print(dataset_timetable.shape)\n",
        "\n",
        "#setting display options\n",
        "pd.set_option('display.max_rows', None)\n",
        "pd.set_option('display.max_columns', None)\n",
        "pd.set_option('display.width', None)\n",
        "pd.set_option('display.max_colwidth', None)\n",
        "\n",
        "#Preprocessing for desired result\n",
        "suffixes = ['Ms ','Mr ',' Mr','Ms.',' Ms','Mr.']\n",
        "for suffix in suffixes:\n",
        "    dataset_timetable['Teachers_Name'] = dataset_timetable['Teachers_Name'].str.replace(suffix, '')\n",
        "\n",
        "\n",
        "dataset_timetable['Teachers_Name'] = dataset_timetable['Teachers_Name'].str.strip()\n",
        "print(dataset_timetable.shape)\n",
        "\n",
        "\n",
        "#fetching details\n",
        "dataset_timetable['Teachers_Name'] = dataset_timetable['Teachers_Name'].apply(lambda x: str(x).upper())\n",
        "dataset_timetable['Day'] = dataset_timetable['Day'].apply(lambda x: str(x).upper())\n",
        "list_of_periods = list(dataset_timetable['Period'].unique())  #all the periods\n",
        "list_of_days = list(dataset_timetable['Day'].unique()) #all the days\n",
        "new = dataset_timetable[dataset_timetable['Day'] == datetime.today().strftime(\"%A\").upper()] #todays time table"
      ],
      "metadata": {
        "id": "_wt2M8vFW3YK",
        "colab": {
          "base_uri": "https://localhost:8080/"
        },
        "outputId": "db47bd39-01d6-4fc6-ad42-768848f09add"
      },
      "execution_count": 28,
      "outputs": [
        {
          "output_type": "stream",
          "name": "stdout",
          "text": [
            "(1925, 6)\n",
            "(1925, 6)\n"
          ]
        },
        {
          "output_type": "stream",
          "name": "stderr",
          "text": [
            "<ipython-input-28-a1e9a50d9ed4>:12: SettingWithCopyWarning: \n",
            "A value is trying to be set on a copy of a slice from a DataFrame.\n",
            "Try using .loc[row_indexer,col_indexer] = value instead\n",
            "\n",
            "See the caveats in the documentation: https://pandas.pydata.org/pandas-docs/stable/user_guide/indexing.html#returning-a-view-versus-a-copy\n",
            "  df2['Teachers_Name'] = df2['Teachers_Name'].fillna('Not available')\n"
          ]
        }
      ]
    },
    {
      "cell_type": "code",
      "source": [
        "#Step 1: Finding free periods from Timetable for all the teachers\n",
        "\n",
        "dict1 = {} #empty dict created to store teachers as key and free periods in values\n",
        "for x in list(new['Teachers_Name'].unique()):  #for selecting a perticular subject\n",
        "    new[new['Teachers_Name'] == x]            #todays timetable for selected teacher\n",
        "    period_list = sorted(new[new['Teachers_Name'] == x]['Period'].to_list()) #periods of selected teacher in which classes are assigned\n",
        "    set1 = set(list_of_periods)  #all the periods in school\n",
        "    set2 = set(period_list)  #only periods for selected teachers in which classes are assigned\n",
        "\n",
        "    difference = set1 - set2    #free periods for the selected teacher\n",
        "    difference_list = list(difference) #free periods for the selected teacher converted into list\n",
        "    dict1[x] = difference_list #assigning selected teacher and their free periods\n",
        "\n",
        "\n",
        "#step 2: for a perticular period assiging all the free teachers available for that period\n",
        "\n",
        "dict2 = {}  #created a empty to dict consist periods as key and available free teacher as key's values\n",
        "for period in list_of_periods:  #selecting periods one by one\n",
        "    list1 = [] #empty list to temporary the available free teacher for a selected period\n",
        "    for teachers in dict1: #extracting teachers from dict1\n",
        "        for xx in dict1[teachers]: #extracting the free periods for a perticular teacher\n",
        "            if period == xx:\n",
        "                list1.append(teachers) #if above looped period = to free period of selected teacher then this teacher assigned to the list\n",
        "    dict2[period] = list1 #assigned the period as dict and teachers as its values\n",
        "\n",
        "\n",
        "#step 3: Created a dataframe to store periods as header and available teachers in row\n",
        "\n",
        "index = list(range(1,50))\n",
        "dataset_freeperiod = pd.DataFrame() #create a empty dataframe to store\n",
        "dataset_freeperiod['index'] = index  #assigned a column as index to insert 50 rows\n",
        "for periods in dict2:\n",
        "    lane = pd.Series(dict2[periods],name = periods) #for selected period store all the teachers in a series\n",
        "    dataset_freeperiod[periods] = lane     #created a column with currently looped period and assigned the free teachers in it\n",
        "dataset_freeperiod.drop([\"index\"],axis = 1, inplace = True) #deleted index column so my system does not confuse it as period and its values as teacher\n",
        "\n",
        "\n",
        "#step 4: Finding unique classes of teachers\n",
        "\n",
        "#dataset_timetable = pd.read_csv('Time table.csv') why would I need this ?\n",
        "teachers_list = list(dataset_timetable['Teachers_Name'].unique())  #extracting all the teachers\n",
        "index1 = list(range(1,50))\n",
        "dataset_teacher_classes = pd.DataFrame() #created a empty dataframe to store Teachers_Name and thier classes\n",
        "dataset_teacher_classes['index'] = index1\n",
        "for teachers in teachers_list:\n",
        "    unique_class = dataset_timetable[dataset_timetable['Teachers_Name'] == teachers]['Class/section'].unique() #classes for the teachers\n",
        "    lane = pd.Series(unique_class,name = teachers) #store teacher and free period in a series\n",
        "    dataset_teacher_classes[teachers] = lane #added teachers and free period in dataframe\n",
        "dataset_teacher_classes.drop([\"index\"],axis = 1, inplace = True)  #deleted index column so my system does not confuse it as period and its values as teacher\n",
        "\n",
        "#step 5A: loading booked dataset\n",
        "\n",
        "try:\n",
        "  worksheet = gs.open('Test Absent Teacher').worksheet('Booking_Slot')\n",
        "  data1 = worksheet.get_all_values()\n",
        "  Booked_slot_dataframe = pd.DataFrame(data1[1:], columns=data1[0])\n",
        "except:\n",
        "  pass\n",
        "\n",
        "#Removing Booked teachers from given slot\n",
        "\n",
        "for p in list(Booked_slot_dataframe['Booked_Period'].unique()):\n",
        "  teachers_to_remove_from_availability = list(Booked_slot_dataframe[Booked_slot_dataframe['Booked_Period'] == p]['Teachers_Name'].unique())\n",
        "  for t in teachers_to_remove_from_availability:\n",
        "    if (dataset_freeperiod[p] == t).any():\n",
        "      dataset_freeperiod[p].replace(t,'NAN',inplace = True)\n",
        "    else:\n",
        "      pass\n",
        "\n",
        "\n",
        "#step 6: Data preprocessing\n",
        "#converting the names of teacher in dataset_teacher_classes into upper case\n",
        "dataset_teacher_classes.columns = dataset_teacher_classes.columns.str.upper()\n",
        "#converting all the data in upper string in our Teachers and day column\n",
        "dataset_timetable['Teachers_Name'] = dataset_timetable['Teachers_Name'].apply(lambda x: str(x).upper())\n",
        "dataset_timetable['Day'] = dataset_timetable['Day'].apply(lambda x: str(x).upper())\n",
        "#converting all the data in upper string in our dataset\n",
        "for col in dataset_freeperiod.columns.to_list():\n",
        "    dataset_freeperiod[col] = dataset_freeperiod[col].apply(lambda x: str(x).upper())"
      ],
      "metadata": {
        "id": "CUkFiKU8XjSF"
      },
      "execution_count": 29,
      "outputs": []
    },
    {
      "cell_type": "markdown",
      "source": [
        "## Checking\n"
      ],
      "metadata": {
        "id": "R3rlr0YwYeCJ"
      }
    },
    {
      "cell_type": "code",
      "source": [
        "#step 7: Removing absent teachers and low preference from the availability\n",
        "'''\n",
        "for t in absent_teachers:\n",
        "    #for column in dataset_freeperiod.columns.to_list():\n",
        "    if (dataset_freeperiod == t).any().any():\n",
        "        dataset_freeperiod.replace(t,'NAN', inplace=True)\n",
        "'''\n",
        "try:\n",
        "  worksheet = gs.open('Test Absent Teacher').worksheet('Teachers_not_to_assign')\n",
        "  data1 = worksheet.get_all_values()\n",
        "  Teachers_not_to_assign_dataframe = pd.DataFrame(data1[1:], columns=data1[0])\n",
        "  Teachers_not_to_assign = list(Teachers_not_to_assign_dataframe['Teachers_Name'])\n",
        "except:\n",
        "  Teachers_not_to_assign = ['ADITI MATHUR','NITA TIWARI','SOMVEER YADAV','KSHIPRA SETHI','POOJA ARORA','JATIN HASIJA','ANUPAM DIXIT','VIZUL CHAUDHARY','DEEPIKA SHARMA','PRATIMA JHA',\n",
        "                          'GARIMA ARYA','SARU JAIN','VIJAY KUMAR','SANJAY GILL','RAKESH SHEORAN','ARUN GAUTAM','SUDHIR KUMAR','SONIA YADAV']\n",
        "\n",
        "\n",
        "for t in Teachers_not_to_assign:\n",
        "    if (dataset_freeperiod == t).any().any():\n",
        "        dataset_freeperiod.replace(t,'NAN', inplace=True)\n",
        "\n",
        "#Creating a dataframe to store the substitute teachers\n",
        "#substitute = pd.DataFrame(columns=['Absent teacher','Period','Subject of absent', 'class','Substitute teacher'])\n",
        "#extracting timetable for all the teachers only for today\n",
        "#today_dataset_timetable = dataset_timetable[dataset_timetable['Day'] == datetime.today().strftime(\"%A\").upper()]\n",
        "today_dataset_timetable = new"
      ],
      "metadata": {
        "id": "nBVRzz17Y0Ia"
      },
      "execution_count": 30,
      "outputs": []
    },
    {
      "cell_type": "markdown",
      "source": [
        "##Substitition Processing"
      ],
      "metadata": {
        "id": "bAYAQY4zZEKp"
      }
    },
    {
      "cell_type": "markdown",
      "source": [
        "###Data loading"
      ],
      "metadata": {
        "id": "7RIj3dsrZLhW"
      }
    },
    {
      "cell_type": "code",
      "source": [
        "#load the absent teachers dataframe\n",
        "worksheet = gs.open('Test Absent Teacher').worksheet('Todays_Absent_Teacher')\n",
        "data = worksheet.get_all_values()\n",
        "absent_teachers_dataframe = pd.DataFrame(data[1:], columns=data[0])"
      ],
      "metadata": {
        "id": "SKLKCSpYZR9m"
      },
      "execution_count": 31,
      "outputs": []
    },
    {
      "cell_type": "markdown",
      "source": [
        "###Removing teachers from availabality"
      ],
      "metadata": {
        "id": "nGqVeYkNaXDy"
      }
    },
    {
      "cell_type": "code",
      "source": [
        "absent_teachers= list(absent_teachers_dataframe[absent_teachers_dataframe['Leave _Type'] == 'FDL']['Absent_Teacher'].unique())\n",
        "#Removing teachers from availibility\n",
        "for t in absent_teachers:\n",
        "    #for column in dataset_freeperiod.columns.to_list():\n",
        "    if (dataset_freeperiod == t).any().any():\n",
        "        dataset_freeperiod.replace(t,'NAN', inplace=True)\n",
        "\n",
        "#Removing absent_teachers_MSL from 1st and 2nd period\n",
        "absent_teachers_MSL = list(absent_teachers_dataframe[absent_teachers_dataframe['Leave _Type'] == 'MSL']['Absent_Teacher'].unique())\n",
        "period_MSL_A = ['Period 1','Period 2']\n",
        "for p in period_MSL_A:\n",
        "  teachers_to_remove_from_availability = absent_teachers_MSL\n",
        "  for t in teachers_to_remove_from_availability:\n",
        "    if (dataset_freeperiod[p] == t).any():\n",
        "      dataset_freeperiod[p].replace(t,'NAN',inplace = True)\n",
        "    else:\n",
        "      pass\n",
        "\n",
        "#Removing absent_teachers_MSL from 9th Period\n",
        "absent_teachers_ASL = list(absent_teachers_dataframe[absent_teachers_dataframe['Leave _Type'] == 'ASL']['Absent_Teacher'].unique())\n",
        "period_ASL_A = ['Period 9']\n",
        "\n",
        "for p in period_ASL_A:\n",
        "  teachers_to_remove_from_availability = absent_teachers_ASL\n",
        "  for t in teachers_to_remove_from_availability:\n",
        "    if (dataset_freeperiod[p] == t).any():\n",
        "      dataset_freeperiod[p].replace(t,'NAN',inplace = True)\n",
        "    else:\n",
        "      pass\n",
        "\n",
        "#Removing absent_teachers_MSL from FH slot\n",
        "absent_teachers_FHL = list(absent_teachers_dataframe[absent_teachers_dataframe['Leave _Type'] == 'FHL']['Absent_Teacher'].unique())\n",
        "#Removing absent_teachers_MSL from FH slot\n",
        "period_FHL_A = ['Period 1','Period 2','Period 3','Period 4','Period 5']\n",
        "for p in period_FHL_A:\n",
        "  teachers_to_remove_from_availability = absent_teachers_FHL\n",
        "  for t in teachers_to_remove_from_availability:\n",
        "    if (dataset_freeperiod[p] == t).any():\n",
        "      dataset_freeperiod[p].replace(t,'NAN',inplace = True)\n",
        "    else:\n",
        "      pass\n",
        "\n",
        "#Removing absent_teachers_MSL from FH slot\n",
        "absent_teachers_SHL = list(absent_teachers_dataframe[absent_teachers_dataframe['Leave _Type'] == 'SHL']['Absent_Teacher'].unique())\n",
        "period_SHL_A = ['Period 6','Period 7','Period 8','Period 9']\n",
        "for p in period_SHL_A:\n",
        "  teachers_to_remove_from_availability = absent_teachers_SHL\n",
        "  for t in teachers_to_remove_from_availability:\n",
        "    if (dataset_freeperiod[p] == t).any():\n",
        "      dataset_freeperiod[p].replace(t,'NAN',inplace = True)\n",
        "    else:\n",
        "      pass\n"
      ],
      "metadata": {
        "id": "VbCc_sxGaX8K"
      },
      "execution_count": 32,
      "outputs": []
    },
    {
      "cell_type": "markdown",
      "source": [
        "### Substutuion for FDL"
      ],
      "metadata": {
        "id": "bf6HkDzqarK6"
      }
    },
    {
      "cell_type": "code",
      "source": [
        "absent_teachers= list(absent_teachers_dataframe[absent_teachers_dataframe['Leave _Type'] == 'FDL']['Absent_Teacher'].unique())\n",
        "\n",
        "#Creating a dataframe to store the substitute teachers\n",
        "substitute_msl = pd.DataFrame(columns=['Absent teacher','Period','Subject of absent', 'class','Substitute teacher'])\n",
        "\n",
        "\n",
        "#substitution\n",
        "\n",
        "for teacher in absent_teachers:\n",
        "    #store all the periods in which perticular absentee teaches\n",
        "    periods = today_dataset_timetable[today_dataset_timetable['Teachers_Name'] == teacher]['Period'].to_list()\n",
        "    #store all the classes in which perticular absentee teaches\n",
        "    classes = today_dataset_timetable[today_dataset_timetable['Teachers_Name'] == teacher]['Class/section'].to_list()\n",
        "    #print(teacher)\n",
        "    subjects = today_dataset_timetable[today_dataset_timetable['Teachers_Name'] == teacher]['Subject'].to_list()\n",
        "\n",
        "\n",
        "\n",
        "    #extracting the periods one by one\n",
        "    i = 0\n",
        "\n",
        "    for period in periods:\n",
        "        available_teachers = dataset_freeperiod[period].to_list()\n",
        "        #available_teachers = dataset_freeperiod[dataset_freeperiod['Day']==datetime.today().strftime(\"%A\").upper()][period].to_list()\n",
        "        available_teachers = [x for x in available_teachers if x != 'NAN']\n",
        "\n",
        "        c = classes[i]\n",
        "        s = subjects[i]\n",
        "        for available_teacher in available_teachers:\n",
        "            #Making a check that same teacher should not assinged to two classes at the same time and total periods for teachers should not be more that 8\n",
        "            if (period not in substitute_msl[substitute_msl['Substitute teacher'] == available_teacher]['Period'].to_list()) and ((len(substitute_msl[substitute_msl['Substitute teacher'] == available_teacher]['Period'].to_list()) + len(today_dataset_timetable[today_dataset_timetable['Teachers_Name'] == available_teacher]['Period'].to_list())) < 7): #to_list() is very important here\n",
        "                #checking if available teacher share same class with absantee teacher class for that period\n",
        "                if (c in list(dataset_teacher_classes[available_teacher])) and (s in new[new['Teachers_Name'] == available_teacher]['Subject'].to_list()): #Return the list of classes\n",
        "                    substitute_msl.loc[len(substitute_msl.index)] = [teacher,period,s,c,available_teacher]\n",
        "                    break\n",
        "\n",
        "        else:\n",
        "            for available_teacher in available_teachers:\n",
        "            #Making a check that same teacher should not assinged to two classes at the same time and total periods for teachers should not be more that 8\n",
        "                if (period not in substitute_msl[substitute_msl['Substitute teacher'] == available_teacher]['Period'].to_list()) and ((len(substitute_msl[substitute_msl['Substitute teacher'] == available_teacher]['Period'].to_list()) + len(today_dataset_timetable[today_dataset_timetable['Teachers_Name'] == available_teacher]['Period'].to_list())) < 7): #to_list() is very important here\n",
        "                #checking if available teacher share same class with absantee teacher class for that period\n",
        "                    if (c in list(dataset_teacher_classes[available_teacher])): #Return the list of classes\n",
        "                        substitute_msl.loc[len(substitute_msl.index)] = [teacher,period,s,c,available_teacher]\n",
        "                        break\n",
        "            else:\n",
        "              for available_teacher in available_teachers:\n",
        "                if (period not in substitute_msl[substitute_msl['Substitute teacher'] == available_teacher]['Period'].to_list()) and ((len(substitute_msl[substitute_msl['Substitute teacher'] == available_teacher]['Period'].to_list()) + len(today_dataset_timetable[today_dataset_timetable['Teachers_Name'] == available_teacher]['Period'].to_list())) < 7):\n",
        "                  substitute_msl.loc[len(substitute_msl.index)] = [teacher,period,s,c,available_teacher]\n",
        "                  break\n",
        "              else:\n",
        "                substitute_msl.loc[len(substitute_msl.index)] = [teacher,period,s,c,'Not available']\n",
        "        i += 1"
      ],
      "metadata": {
        "id": "EYMaAuNca4Gz"
      },
      "execution_count": 33,
      "outputs": []
    },
    {
      "cell_type": "markdown",
      "source": [
        "### Substutuion for MSL"
      ],
      "metadata": {
        "id": "SQaP2IEKbPY9"
      }
    },
    {
      "cell_type": "code",
      "source": [
        "absent_teachers_MSL = list(absent_teachers_dataframe[absent_teachers_dataframe['Leave _Type'] == 'MSL']['Absent_Teacher'].unique())\n",
        "\n",
        "#Removing absent_teachers_MSL from 1st and 2nd period\n",
        "'''\n",
        "period_MSL_A = ['Period 1','Period 2']\n",
        "for p in period_MSL_A:\n",
        "  teachers_to_remove_from_availability = absent_teachers_MSL\n",
        "  for t in teachers_to_remove_from_availability:\n",
        "    if (dataset_freeperiod[p] == t).any():\n",
        "      dataset_freeperiod[p].replace(t,'NAN',inplace = True)\n",
        "    else:\n",
        "      pass\n",
        "'''\n",
        "\n",
        "#Substitution in MSL\n",
        "for teacher in absent_teachers_MSL:\n",
        "  #\n",
        "\n",
        "  period_MSL = ['Period 1','Period 2']\n",
        "  periods = []\n",
        "  classes = []\n",
        "  subjects = []\n",
        "\n",
        "  periods_total = today_dataset_timetable[today_dataset_timetable['Teachers_Name'] == teacher]['Period'].to_list()\n",
        "\n",
        "  periods_to_assing = list(set(period_MSL).intersection(set(periods_total)))\n",
        "\n",
        "  for p in periods_to_assing:\n",
        "    periods.append(p)\n",
        "    c = (today_dataset_timetable[(today_dataset_timetable['Teachers_Name'] == teacher) & (today_dataset_timetable['Period'] == p)]['Class/section']).values[0]\n",
        "    classes.append(c)\n",
        "    s = (today_dataset_timetable[(today_dataset_timetable['Teachers_Name'] == teacher) & (today_dataset_timetable['Period'] == p)]['Subject']).values[0]\n",
        "    subjects.append(s)\n",
        "\n",
        "  i = 0\n",
        "\n",
        "  for period in periods:\n",
        "      available_teachers = dataset_freeperiod[period].to_list()\n",
        "      #available_teachers = dataset_freeperiod[dataset_freeperiod['Day']==datetime.today().strftime(\"%A\").upper()][period].to_list()\n",
        "      available_teachers = [x for x in available_teachers if x != 'NAN']\n",
        "      c = classes[i]\n",
        "      s = subjects[i]\n",
        "      for available_teacher in available_teachers:\n",
        "        #Making a check that same teacher should not assinged to two classes at the same time and total periods for teachers should not be more that 8\n",
        "        if (period not in substitute_msl[substitute_msl['Substitute teacher'] == available_teacher]['Period'].to_list()) and ((len(substitute_msl[substitute_msl['Substitute teacher'] == available_teacher]['Period'].to_list()) + len(today_dataset_timetable[today_dataset_timetable['Teachers_Name'] == available_teacher]['Period'].to_list())) < 7): #to_list() is very important here\n",
        "            #checking if available teacher share same class with absantee teacher class for that period\n",
        "            if (c in list(dataset_teacher_classes[available_teacher])) and (s in new[new['Teachers_Name'] == available_teacher]['Subject'].to_list()): #Return the list of classes\n",
        "                substitute_msl.loc[len(substitute_msl.index)] = [teacher,period,s,c,available_teacher]\n",
        "                break\n",
        "      else:\n",
        "        for available_teacher in available_teachers:\n",
        "        #Making a check that same teacher should not assinged to two classes at the same time and total periods for teachers should not be more that 8\n",
        "             if (period not in substitute_msl[substitute_msl['Substitute teacher'] == available_teacher]['Period'].to_list()) and ((len(substitute_msl[substitute_msl['Substitute teacher'] == available_teacher]['Period'].to_list()) + len(today_dataset_timetable[today_dataset_timetable['Teachers_Name'] == available_teacher]['Period'].to_list())) < 7): #to_list() is very important here\n",
        "             #checking if available teacher share same class with absantee teacher class for that period\n",
        "                if (c in list(dataset_teacher_classes[available_teacher])): #Return the list of classes\n",
        "                    substitute_msl.loc[len(substitute_msl.index)] = [teacher,period,s,c,available_teacher]\n",
        "                    break\n",
        "        else:\n",
        "          for available_teacher in available_teachers:\n",
        "        #Making a check that same teacher should not assinged to two classes at the same time and total periods for teachers should not be more that 8\n",
        "             if (period not in substitute_msl[substitute_msl['Substitute teacher'] == available_teacher]['Period'].to_list()) and ((len(substitute_msl[substitute_msl['Substitute teacher'] == available_teacher]['Period'].to_list()) + len(today_dataset_timetable[today_dataset_timetable['Teachers_Name'] == available_teacher]['Period'].to_list())) < 7):\n",
        "              substitute_msl.loc[len(substitute_msl.index)] = [teacher,period,s,c,available_teacher]\n",
        "              break\n",
        "          else:\n",
        "            substitute_msl.loc[len(substitute_msl.index)] = [teacher,period,s,c,'Not available']\n",
        "      i += 1"
      ],
      "metadata": {
        "id": "yDvnqaECbQnf"
      },
      "execution_count": 34,
      "outputs": []
    },
    {
      "cell_type": "markdown",
      "source": [
        "### Substutuion for ASL"
      ],
      "metadata": {
        "id": "Gm9lv36IbbF5"
      }
    },
    {
      "cell_type": "code",
      "source": [
        "absent_teachers_ASL = list(absent_teachers_dataframe[absent_teachers_dataframe['Leave _Type'] == 'ASL']['Absent_Teacher'].unique())\n",
        "\n",
        "#Removing absent_teachers_MSL from 9th Period\n",
        "'''\n",
        "period_ASL_A = ['Period 9']\n",
        "\n",
        "for p in period_ASL_A:\n",
        "  teachers_to_remove_from_availability = absent_teachers_ASL\n",
        "  for t in teachers_to_remove_from_availability:\n",
        "    if (dataset_freeperiod[p] == t).any():\n",
        "      dataset_freeperiod[p].replace(t,'NAN',inplace = True)\n",
        "    else:\n",
        "      pass\n",
        "'''\n",
        "\n",
        "#Substitution in ASL\n",
        "for teacher in absent_teachers_ASL:\n",
        "  #\n",
        "\n",
        "  period_MSL = ['Period 9']\n",
        "  periods = []\n",
        "  classes = []\n",
        "  subjects = []\n",
        "\n",
        "  periods_total = today_dataset_timetable[today_dataset_timetable['Teachers_Name'] == teacher]['Period'].to_list()\n",
        "\n",
        "  periods_to_assing = list(set(period_MSL).intersection(set(periods_total)))\n",
        "\n",
        "  for p in periods_to_assing:\n",
        "    periods.append(p)\n",
        "    c = (today_dataset_timetable[(today_dataset_timetable['Teachers_Name'] == teacher) & (today_dataset_timetable['Period'] == p)]['Class/section']).values[0]\n",
        "    classes.append(c)\n",
        "    s = (today_dataset_timetable[(today_dataset_timetable['Teachers_Name'] == teacher) & (today_dataset_timetable['Period'] == p)]['Subject']).values[0]\n",
        "    subjects.append(s)\n",
        "\n",
        "  i = 0\n",
        "\n",
        "  for period in periods:\n",
        "      available_teachers = dataset_freeperiod[period].to_list()\n",
        "      #available_teachers = dataset_freeperiod[dataset_freeperiod['Day']==datetime.today().strftime(\"%A\").upper()][period].to_list()\n",
        "      available_teachers = [x for x in available_teachers if x != 'NAN']\n",
        "      c = classes[i]\n",
        "      s = subjects[i]\n",
        "      for available_teacher in available_teachers:\n",
        "        #Making a check that same teacher should not assinged to two classes at the same time and total periods for teachers should not be more that 8\n",
        "        if (period not in substitute_msl[substitute_msl['Substitute teacher'] == available_teacher]['Period'].to_list()) and ((len(substitute_msl[substitute_msl['Substitute teacher'] == available_teacher]['Period'].to_list()) + len(today_dataset_timetable[today_dataset_timetable['Teachers_Name'] == available_teacher]['Period'].to_list())) < 7): #to_list() is very important here\n",
        "            #checking if available teacher share same class with absantee teacher class for that period\n",
        "            if (c in list(dataset_teacher_classes[available_teacher])) and (s in new[new['Teachers_Name'] == available_teacher]['Subject'].to_list()): #Return the list of classes\n",
        "                substitute_msl.loc[len(substitute_msl.index)] = [teacher,period,s,c,available_teacher]\n",
        "                break\n",
        "      else:\n",
        "        for available_teacher in available_teachers:\n",
        "        #Making a check that same teacher should not assinged to two classes at the same time and total periods for teachers should not be more that 8\n",
        "             if (period not in substitute_msl[substitute_msl['Substitute teacher'] == available_teacher]['Period'].to_list()) and ((len(substitute_msl[substitute_msl['Substitute teacher'] == available_teacher]['Period'].to_list()) + len(today_dataset_timetable[today_dataset_timetable['Teachers_Name'] == available_teacher]['Period'].to_list())) < 7): #to_list() is very important here\n",
        "             #checking if available teacher share same class with absantee teacher class for that period\n",
        "                if (c in list(dataset_teacher_classes[available_teacher])): #Return the list of classes\n",
        "                    substitute_msl.loc[len(substitute_msl.index)] = [teacher,period,s,c,available_teacher]\n",
        "                    break\n",
        "        else:\n",
        "          for available_teacher in available_teachers:\n",
        "        #Making a check that same teacher should not assinged to two classes at the same time and total periods for teachers should not be more that 8\n",
        "             if (period not in substitute_msl[substitute_msl['Substitute teacher'] == available_teacher]['Period'].to_list()) and ((len(substitute_msl[substitute_msl['Substitute teacher'] == available_teacher]['Period'].to_list()) + len(today_dataset_timetable[today_dataset_timetable['Teachers_Name'] == available_teacher]['Period'].to_list())) < 7):\n",
        "              substitute_msl.loc[len(substitute_msl.index)] = [teacher,period,s,c,available_teacher]\n",
        "              break\n",
        "          else:\n",
        "            substitute_msl.loc[len(substitute_msl.index)] = [teacher,period,s,c,'Not available']\n",
        "      i += 1"
      ],
      "metadata": {
        "id": "cIPjvGyRbhhV"
      },
      "execution_count": 35,
      "outputs": []
    },
    {
      "cell_type": "markdown",
      "source": [
        "### Substutuion for FHL"
      ],
      "metadata": {
        "id": "Zlh-ZQ1mbtsl"
      }
    },
    {
      "cell_type": "code",
      "source": [
        "absent_teachers_FHL = list(absent_teachers_dataframe[absent_teachers_dataframe['Leave _Type'] == 'FHL']['Absent_Teacher'].unique())\n",
        "\n",
        "'''\n",
        "#Removing absent_teachers_MSL from FH slot\n",
        "period_FHL_A = ['Period 1','Period 2','Period 3','Period 4','Period 5']\n",
        "for p in period_FHL_A:\n",
        "  teachers_to_remove_from_availability = absent_teachers_FHL\n",
        "  for t in teachers_to_remove_from_availability:\n",
        "    if (dataset_freeperiod[p] == t).any():\n",
        "      dataset_freeperiod[p].replace(t,'NAN',inplace = True)\n",
        "    else:\n",
        "      pass\n",
        "'''\n",
        "\n",
        "#Substitution in FHL\n",
        "for teacher in absent_teachers_FHL:\n",
        "  #\n",
        "\n",
        "  period_MSL = ['Period 1','Period 2','Period 3','Period 4','Period 5']\n",
        "  periods = []\n",
        "  classes = []\n",
        "  subjects = []\n",
        "\n",
        "  periods_total = today_dataset_timetable[today_dataset_timetable['Teachers_Name'] == teacher]['Period'].to_list()\n",
        "\n",
        "  periods_to_assing = list(set(period_MSL).intersection(set(periods_total)))\n",
        "\n",
        "  for p in periods_to_assing:\n",
        "    periods.append(p)\n",
        "    c = (today_dataset_timetable[(today_dataset_timetable['Teachers_Name'] == teacher) & (today_dataset_timetable['Period'] == p)]['Class/section']).values[0]\n",
        "    classes.append(c)\n",
        "    s = (today_dataset_timetable[(today_dataset_timetable['Teachers_Name'] == teacher) & (today_dataset_timetable['Period'] == p)]['Subject']).values[0]\n",
        "    subjects.append(s)\n",
        "\n",
        "  i = 0\n",
        "\n",
        "  for period in periods:\n",
        "      available_teachers = dataset_freeperiod[period].to_list()\n",
        "      #available_teachers = dataset_freeperiod[dataset_freeperiod['Day']==datetime.today().strftime(\"%A\").upper()][period].to_list()\n",
        "      available_teachers = [x for x in available_teachers if x != 'NAN']\n",
        "      c = classes[i]\n",
        "      s = subjects[i]\n",
        "      for available_teacher in available_teachers:\n",
        "        #Making a check that same teacher should not assinged to two classes at the same time and total periods for teachers should not be more that 8\n",
        "        if (period not in substitute_msl[substitute_msl['Substitute teacher'] == available_teacher]['Period'].to_list()) and ((len(substitute_msl[substitute_msl['Substitute teacher'] == available_teacher]['Period'].to_list()) + len(today_dataset_timetable[today_dataset_timetable['Teachers_Name'] == available_teacher]['Period'].to_list())) < 7): #to_list() is very important here\n",
        "            #checking if available teacher share same class with absantee teacher class for that period\n",
        "            if (c in list(dataset_teacher_classes[available_teacher])) and (s in new[new['Teachers_Name'] == available_teacher]['Subject'].to_list()): #Return the list of classes\n",
        "                substitute_msl.loc[len(substitute_msl.index)] = [teacher,period,s,c,available_teacher]\n",
        "                break\n",
        "      else:\n",
        "        for available_teacher in available_teachers:\n",
        "        #Making a check that same teacher should not assinged to two classes at the same time and total periods for teachers should not be more that 8\n",
        "             if (period not in substitute_msl[substitute_msl['Substitute teacher'] == available_teacher]['Period'].to_list()) and ((len(substitute_msl[substitute_msl['Substitute teacher'] == available_teacher]['Period'].to_list()) + len(today_dataset_timetable[today_dataset_timetable['Teachers_Name'] == available_teacher]['Period'].to_list())) < 7): #to_list() is very important here\n",
        "             #checking if available teacher share same class with absantee teacher class for that period\n",
        "                if (c in list(dataset_teacher_classes[available_teacher])): #Return the list of classes\n",
        "                    substitute_msl.loc[len(substitute_msl.index)] = [teacher,period,s,c,available_teacher]\n",
        "                    break\n",
        "        else:\n",
        "          for available_teacher in available_teachers:\n",
        "        #Making a check that same teacher should not assinged to two classes at the same time and total periods for teachers should not be more that 8\n",
        "             if (period not in substitute_msl[substitute_msl['Substitute teacher'] == available_teacher]['Period'].to_list()) and ((len(substitute_msl[substitute_msl['Substitute teacher'] == available_teacher]['Period'].to_list()) + len(today_dataset_timetable[today_dataset_timetable['Teachers_Name'] == available_teacher]['Period'].to_list())) < 7):\n",
        "              substitute_msl.loc[len(substitute_msl.index)] = [teacher,period,s,c,available_teacher]\n",
        "              break\n",
        "          else:\n",
        "            substitute_msl.loc[len(substitute_msl.index)] = [teacher,period,s,c,'Not available']\n",
        "      i += 1"
      ],
      "metadata": {
        "id": "03v8yS8Zb0yC"
      },
      "execution_count": 36,
      "outputs": []
    },
    {
      "cell_type": "markdown",
      "source": [
        "### Substutuion for SHL"
      ],
      "metadata": {
        "id": "_WDgM-MEb8Nf"
      }
    },
    {
      "cell_type": "code",
      "source": [
        "absent_teachers_SHL = list(absent_teachers_dataframe[absent_teachers_dataframe['Leave _Type'] == 'SHL']['Absent_Teacher'].unique())"
      ],
      "metadata": {
        "id": "wzMk56gIcKST"
      },
      "execution_count": 37,
      "outputs": []
    },
    {
      "cell_type": "code",
      "source": [
        "'''\n",
        "#Removing absent_teachers_MSL from FH slot\n",
        "period_SHL_A = ['Period 6','Period 7','Period 8','Period 9']\n",
        "for p in period_SHL_A:\n",
        "  teachers_to_remove_from_availability = absent_teachers_SHL\n",
        "  for t in teachers_to_remove_from_availability:\n",
        "    if (dataset_freeperiod[p] == t).any():\n",
        "      dataset_freeperiod[p].replace(t,'NAN',inplace = True)\n",
        "    else:\n",
        "      pass\n",
        "'''\n",
        "#Substitution in SHL\n",
        "for teacher in absent_teachers_SHL:\n",
        "  #\n",
        "\n",
        "  period_MSL = ['Period 6','Period 7','Period 8','Period 9']\n",
        "  periods = []\n",
        "  classes = []\n",
        "  subjects = []\n",
        "\n",
        "  periods_total = today_dataset_timetable[today_dataset_timetable['Teachers_Name'] == teacher]['Period'].to_list()\n",
        "\n",
        "  periods_to_assing = list(set(period_MSL).intersection(set(periods_total)))\n",
        "\n",
        "  for p in periods_to_assing:\n",
        "    periods.append(p)\n",
        "    c = (today_dataset_timetable[(today_dataset_timetable['Teachers_Name'] == teacher) & (today_dataset_timetable['Period'] == p)]['Class/section']).values[0]\n",
        "    classes.append(c)\n",
        "    s = (today_dataset_timetable[(today_dataset_timetable['Teachers_Name'] == teacher) & (today_dataset_timetable['Period'] == p)]['Subject']).values[0]\n",
        "    subjects.append(s)\n",
        "\n",
        "  i = 0\n",
        "\n",
        "  for period in periods:\n",
        "      available_teachers = dataset_freeperiod[period].to_list()\n",
        "      #available_teachers = dataset_freeperiod[dataset_freeperiod['Day']==datetime.today().strftime(\"%A\").upper()][period].to_list()\n",
        "      available_teachers = [x for x in available_teachers if x != 'NAN']\n",
        "      c = classes[i]\n",
        "      s = subjects[i]\n",
        "      for available_teacher in available_teachers:\n",
        "        #Making a check that same teacher should not assinged to two classes at the same time and total periods for teachers should not be more that 8\n",
        "        if (period not in substitute_msl[substitute_msl['Substitute teacher'] == available_teacher]['Period'].to_list()) and ((len(substitute_msl[substitute_msl['Substitute teacher'] == available_teacher]['Period'].to_list()) + len(today_dataset_timetable[today_dataset_timetable['Teachers_Name'] == available_teacher]['Period'].to_list())) < 7): #to_list() is very important here\n",
        "            #checking if available teacher share same class with absantee teacher class for that period\n",
        "            if (c in list(dataset_teacher_classes[available_teacher])) and (s in new[new['Teachers_Name'] == available_teacher]['Subject'].to_list()): #Return the list of classes\n",
        "                substitute_msl.loc[len(substitute_msl.index)] = [teacher,period,s,c,available_teacher]\n",
        "                break\n",
        "      else:\n",
        "        for available_teacher in available_teachers:\n",
        "        #Making a check that same teacher should not assinged to two classes at the same time and total periods for teachers should not be more that 8\n",
        "             if (period not in substitute_msl[substitute_msl['Substitute teacher'] == available_teacher]['Period'].to_list()) and ((len(substitute_msl[substitute_msl['Substitute teacher'] == available_teacher]['Period'].to_list()) + len(today_dataset_timetable[today_dataset_timetable['Teachers_Name'] == available_teacher]['Period'].to_list())) < 7): #to_list() is very important here\n",
        "             #checking if available teacher share same class with absantee teacher class for that period\n",
        "                if (c in list(dataset_teacher_classes[available_teacher])): #Return the list of classes\n",
        "                    substitute_msl.loc[len(substitute_msl.index)] = [teacher,period,s,c,available_teacher]\n",
        "                    break\n",
        "        else:\n",
        "          for available_teacher in available_teachers:\n",
        "        #Making a check that same teacher should not assinged to two classes at the same time and total periods for teachers should not be more that 8\n",
        "             if (period not in substitute_msl[substitute_msl['Substitute teacher'] == available_teacher]['Period'].to_list()) and ((len(substitute_msl[substitute_msl['Substitute teacher'] == available_teacher]['Period'].to_list()) + len(today_dataset_timetable[today_dataset_timetable['Teachers_Name'] == available_teacher]['Period'].to_list())) < 7):\n",
        "              substitute_msl.loc[len(substitute_msl.index)] = [teacher,period,s,c,available_teacher]\n",
        "              break\n",
        "          else:\n",
        "            substitute_msl.loc[len(substitute_msl.index)] = [teacher,period,s,c,'Not available']\n",
        "      i += 1"
      ],
      "metadata": {
        "id": "Tftnaa2QcNkC"
      },
      "execution_count": 38,
      "outputs": []
    },
    {
      "cell_type": "markdown",
      "source": [
        "##Final compiling"
      ],
      "metadata": {
        "id": "4htwqb06cSCY"
      }
    },
    {
      "cell_type": "code",
      "source": [
        "substitute = substitute_msl\n",
        "\n",
        "# Display the final substitute DataFrame\n",
        "substitute.sort_values(by=['Period','Absent teacher'],inplace = True)\n",
        "#print(substitute)\n",
        "#substitute.to_csv(f'class_6to12_{datetime.today().date()}/1csv')\n",
        "\n",
        "\n",
        "#creating a dataframe to store the count of total periods of teacher\n",
        "data = []\n",
        "\n",
        "# Iterate over unique substitute teachers\n",
        "for x in substitute['Substitute teacher'].unique():\n",
        "    # Calculate total periods for the current substitute teacher\n",
        "    total_periods = (len(substitute[substitute['Substitute teacher'] == x]['Period'].tolist()) +\n",
        "                     len(today_dataset_timetable[today_dataset_timetable['Teachers_Name'] == x]['Period'].tolist()))\n",
        "\n",
        "    # Append a dictionary containing teacher name and total periods to the list\n",
        "    data.append({'Substitute teacher': x, 'Total_periods': total_periods})\n",
        "\n",
        "# Create a DataFrame from the list of dictionaries\n",
        "total_period_count = pd.DataFrame(data)\n",
        "\n",
        "try:\n",
        "  Final_result = pd.merge(substitute,total_period_count, on = 'Substitute teacher',how = 'left')\n",
        "\n",
        "except:\n",
        "  Final_result = pd.DataFrame(columns = ['Absent teacher', 'Period', 'Subject of absent', 'class', 'Substitute teacher','Total_periods'])"
      ],
      "metadata": {
        "id": "o4e_e3J-cVsM"
      },
      "execution_count": 39,
      "outputs": []
    },
    {
      "cell_type": "code",
      "source": [
        "Final_result.rename(columns = {'Total_periods' : 'Total_work_load'},inplace = True)\n",
        "Final_result['Date']  = datetime.today().date()"
      ],
      "metadata": {
        "id": "3T2JeCnPciET"
      },
      "execution_count": 41,
      "outputs": []
    }
  ]
}